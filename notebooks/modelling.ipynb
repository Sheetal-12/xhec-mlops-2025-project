{
 "cells": [
  {
   "cell_type": "code",
   "execution_count": 5,
   "metadata": {},
   "outputs": [],
   "source": [
    "# ============================================================\n",
    "# Linear Regression on Abalone Dataset with Scaler Comparison\n",
    "# Logs multiple runs to MLflow (stored in notebooks/mlruns)\n",
    "# ============================================================\n",
    "\n",
    "\n",
    "from pathlib import Path\n",
    "import pandas as pd\n",
    "from sklearn.model_selection import train_test_split\n",
    "from sklearn.linear_model import LinearRegression\n",
    "from sklearn.preprocessing import StandardScaler, MinMaxScaler, RobustScaler\n",
    "from sklearn.compose import ColumnTransformer\n",
    "from sklearn.pipeline import Pipeline\n",
    "from sklearn.metrics import mean_absolute_error, mean_squared_error, r2_score\n",
    "import mlflow\n",
    "import mlflow.sklearn"
   ]
  },
  {
   "cell_type": "code",
   "execution_count": 6,
   "metadata": {},
   "outputs": [],
   "source": [
    "# ---------- Load and Preprocess Data ----------\n",
    "RANDOM_STATE = 42\n",
    "DATA_PATH = Path(\"../data\") / \"abalone_clean.csv\""
   ]
  },
  {
   "cell_type": "code",
   "execution_count": 7,
   "metadata": {},
   "outputs": [],
   "source": [
    "# Load dataset\n",
    "df = pd.read_csv(DATA_PATH)\n",
    "\n",
    "# Normalize column names (avoid case mismatches like \"Sex\" vs \"sex\")\n",
    "df.columns = df.columns.str.strip().str.lower()\n",
    "\n",
    "# One-hot encode the 'sex' column\n",
    "df = pd.get_dummies(df, columns=[\"sex\"], drop_first=True)"
   ]
  },
  {
   "cell_type": "code",
   "execution_count": 14,
   "metadata": {},
   "outputs": [],
   "source": [
    "X = df.drop(columns=[\"rings\", \"age\"])\n",
    "y = df[\"rings\"]"
   ]
  },
  {
   "cell_type": "code",
   "execution_count": 15,
   "metadata": {},
   "outputs": [],
   "source": [
    "dummy_cols = [c for c in X.columns if c.startswith(\"sex_\")]\n",
    "num_cols = [c for c in X.columns if c not in dummy_cols]"
   ]
  },
  {
   "cell_type": "code",
   "execution_count": 16,
   "metadata": {},
   "outputs": [],
   "source": [
    "# ---------- Define Experiments ----------\n",
    "# Different scalers to compare; \"None\" will skip scaling\n",
    "\n",
    "scalers = {\n",
    "    \"StandardScaler\": StandardScaler(),\n",
    "    \"MinMaxScaler\": MinMaxScaler(),\n",
    "    \"RobustScaler\": RobustScaler(),\n",
    "    \"None\": \"passthrough\",\n",
    "}\n",
    "\n",
    "# Different test/train split ratios to try\n",
    "test_sizes = [0.2, 0.3]"
   ]
  },
  {
   "cell_type": "code",
   "execution_count": 17,
   "metadata": {},
   "outputs": [
    {
     "data": {
      "text/plain": [
       "<Experiment: artifact_location='file:///Users/nandanasreeraj/mlopsproject/xhec-mlops-2025-project/notebooks/mlruns/530722836504791793', creation_time=1761225621947, experiment_id='530722836504791793', last_update_time=1761225621947, lifecycle_stage='active', name='Abalone_Age_Prediction_Multiple_Runs', tags={'mlflow.experimentKind': 'custom_model_development'}>"
      ]
     },
     "execution_count": 17,
     "metadata": {},
     "output_type": "execute_result"
    }
   ],
   "source": [
    "# ---------- MLflow Setup ----------\n",
    "mlflow.set_experiment(\"Abalone_Age_Prediction_Multiple_Runs\")"
   ]
  },
  {
   "cell_type": "code",
   "execution_count": 18,
   "metadata": {},
   "outputs": [
    {
     "name": "stdout",
     "output_type": "stream",
     "text": [
      "Scaler: StandardScaler, Test size: 0.2\n",
      "MAE: 1.550, MSE: 4.461, R²: 0.549\n",
      "\n",
      "Scaler: StandardScaler, Test size: 0.3\n",
      "MAE: 1.541, MSE: 4.533, R²: 0.539\n",
      "\n",
      "Scaler: MinMaxScaler, Test size: 0.2\n",
      "MAE: 1.550, MSE: 4.461, R²: 0.549\n",
      "\n",
      "Scaler: MinMaxScaler, Test size: 0.3\n",
      "MAE: 1.541, MSE: 4.533, R²: 0.539\n",
      "\n",
      "Scaler: RobustScaler, Test size: 0.2\n",
      "MAE: 1.550, MSE: 4.461, R²: 0.549\n",
      "\n",
      "Scaler: RobustScaler, Test size: 0.3\n",
      "MAE: 1.541, MSE: 4.533, R²: 0.539\n",
      "\n",
      "Scaler: None, Test size: 0.2\n",
      "MAE: 1.550, MSE: 4.461, R²: 0.549\n",
      "\n",
      "Scaler: None, Test size: 0.3\n",
      "MAE: 1.541, MSE: 4.533, R²: 0.539\n",
      "\n"
     ]
    }
   ],
   "source": [
    "# ---------- Training & Logging Loop ----------\n",
    "for scaler_name, scaler in scalers.items():\n",
    "    for test_size in test_sizes:\n",
    "        run_name = f\"LR | scaler={scaler_name} | test_size={test_size}\"\n",
    "        with mlflow.start_run(run_name=run_name):\n",
    "            X_train, X_test, y_train, y_test = train_test_split(\n",
    "                X, y, test_size=test_size, random_state=RANDOM_STATE\n",
    "            )\n",
    "\n",
    "            preproc = ColumnTransformer(\n",
    "                transformers=[\n",
    "                    (\"scale_num\", scaler, num_cols),\n",
    "                    (\"pass_dummies\", \"passthrough\", dummy_cols),\n",
    "                ]\n",
    "            )\n",
    "\n",
    "            pipe = Pipeline(\n",
    "                steps=[(\"preprocess\", preproc), (\"model\", LinearRegression())]\n",
    "            )\n",
    "\n",
    "            pipe.fit(X_train, y_train)\n",
    "\n",
    "            y_pred = pipe.predict(X_test)\n",
    "\n",
    "            mae = mean_absolute_error(y_test, y_pred)\n",
    "            mse = mean_squared_error(y_test, y_pred)\n",
    "            r2 = r2_score(y_test, y_pred)\n",
    "\n",
    "            print(f\"Scaler: {scaler_name}, Test size: {test_size}\")\n",
    "            print(f\"MAE: {mae:.3f}, MSE: {mse:.3f}, R²: {r2:.3f}\\n\")\n",
    "\n",
    "            mlflow.log_params(\n",
    "                {\n",
    "                    \"scaler\": scaler_name,\n",
    "                    \"test_size\": test_size,\n",
    "                    \"model_type\": \"LinearRegression\",\n",
    "                    \"random_state\": RANDOM_STATE,\n",
    "                }\n",
    "            )\n",
    "            mlflow.log_metrics({\"MAE\": mae, \"MSE\": mse, \"R2\": r2})\n",
    "\n",
    "            mlflow.sklearn.log_model(\n",
    "                sk_model=pipe,\n",
    "                name=\"linear_regression_model\",\n",
    "                input_example=X_test.head(5),\n",
    "            )\n",
    "\n",
    "            try:\n",
    "                feature_names = pipe.named_steps[\"preprocess\"].get_feature_names_out()\n",
    "                coef = pipe.named_steps[\"model\"].coef_\n",
    "                coef_df = pd.DataFrame({\"feature\": feature_names, \"coefficient\": coef})\n",
    "                mlflow.log_text(coef_df.to_csv(index=False), \"feature_coefficients.csv\")\n",
    "            except Exception as e:\n",
    "                mlflow.log_text(\n",
    "                    f\"Could not derive feature names: {e}\\nCoefficients: {pipe.named_steps['model'].coef_.tolist()}\",\n",
    "                    \"feature_coefficients.txt\",\n",
    "                )"
   ]
  },
  {
   "cell_type": "code",
   "execution_count": 19,
   "metadata": {},
   "outputs": [
    {
     "name": "stdout",
     "output_type": "stream",
     "text": [
      "CWD: /Users/nandanasreeraj/mlopsproject/xhec-mlops-2025-project/notebooks\n",
      "Tracking URI: file:///Users/nandanasreeraj/mlopsproject/xhec-mlops-2025-project/notebooks/mlruns\n",
      "Artifact URI (run context): file:///Users/nandanasreeraj/mlopsproject/xhec-mlops-2025-project/notebooks/mlruns/530722836504791793/e2a7f7a019c9480db477f205e9c63d28/artifacts\n"
     ]
    }
   ],
   "source": [
    "import mlflow\n",
    "import os\n",
    "\n",
    "print(\"CWD:\", os.getcwd())\n",
    "print(\"Tracking URI:\", mlflow.get_tracking_uri())\n",
    "with mlflow.start_run(nested=True):\n",
    "    print(\"Artifact URI (run context):\", mlflow.get_artifact_uri())"
   ]
  }
 ],
 "metadata": {
  "kernelspec": {
   "display_name": "Python (uv: xhec-mlops-2025-project)",
   "language": "python",
   "name": "xhec-mlops-2025-project-uv"
  },
  "language_info": {
   "codemirror_mode": {
    "name": "ipython",
    "version": 3
   },
   "file_extension": ".py",
   "mimetype": "text/x-python",
   "name": "python",
   "nbconvert_exporter": "python",
   "pygments_lexer": "ipython3",
   "version": "3.12.4"
  },
  "orig_nbformat": 4
 },
 "nbformat": 4,
 "nbformat_minor": 2
}
